{
  "nbformat": 4,
  "nbformat_minor": 0,
  "metadata": {
    "colab": {
      "provenance": [],
      "authorship_tag": "ABX9TyNYWT6UMuO0P0MGT/II/Y/w",
      "include_colab_link": true
    },
    "kernelspec": {
      "name": "python3",
      "display_name": "Python 3"
    },
    "language_info": {
      "name": "python"
    }
  },
  "cells": [
    {
      "cell_type": "markdown",
      "metadata": {
        "id": "view-in-github",
        "colab_type": "text"
      },
      "source": [
        "<a href=\"https://colab.research.google.com/github/Somixx21/Raport-10/blob/main/Raport_8.ipynb\" target=\"_parent\"><img src=\"https://colab.research.google.com/assets/colab-badge.svg\" alt=\"Open In Colab\"/></a>"
      ]
    },
    {
      "cell_type": "code",
      "execution_count": 13,
      "metadata": {
        "colab": {
          "base_uri": "https://localhost:8080/"
        },
        "id": "iBveZ9ySEe_x",
        "outputId": "6e35306d-6906-4e14-f7d3-cd9bdbff71da"
      },
      "outputs": [
        {
          "output_type": "stream",
          "name": "stdout",
          "text": [
            "--2025-05-23 12:27:24--  https://github.com/Somixx21/Raport-10/blob/main/googleplaystore.csv\n",
            "Resolving github.com (github.com)... 140.82.113.4\n",
            "Connecting to github.com (github.com)|140.82.113.4|:443... connected.\n",
            "HTTP request sent, awaiting response... 200 OK\n",
            "Length: unspecified [text/html]\n",
            "Saving to: ‘googleplaystore.csv.1’\n",
            "\n",
            "googleplaystore.csv     [   <=>              ]   1.56M  3.20MB/s    in 0.5s    \n",
            "\n",
            "2025-05-23 12:27:25 (3.20 MB/s) - ‘googleplaystore.csv.1’ saved [1637816]\n",
            "\n",
            "--2025-05-23 12:27:25--  https://dq-content.s3.amazonaws.com/350/AppleStore.csv\n",
            "Resolving dq-content.s3.amazonaws.com (dq-content.s3.amazonaws.com)... 52.217.233.121, 3.5.25.111, 16.182.109.169, ...\n",
            "Connecting to dq-content.s3.amazonaws.com (dq-content.s3.amazonaws.com)|52.217.233.121|:443... connected.\n",
            "HTTP request sent, awaiting response... 200 OK\n",
            "Length: 725761 (709K) [text/csv]\n",
            "Saving to: ‘AppleStore.csv.1’\n",
            "\n",
            "AppleStore.csv.1    100%[===================>] 708.75K  2.31MB/s    in 0.3s    \n",
            "\n",
            "2025-05-23 12:27:26 (2.31 MB/s) - ‘AppleStore.csv.1’ saved [725761/725761]\n",
            "\n"
          ]
        }
      ],
      "source": [
        "import csv\n",
        "!wget https://github.com/Somixx21/Raport-10/blob/main/googleplaystore.csv\n",
        "!wget https://dq-content.s3.amazonaws.com/350/AppleStore.csv\n",
        "def load_csv(filename):\n",
        "    with open(filename, encoding='utf-8') as f:\n",
        "        reader = csv.reader(f)\n",
        "        return list(reader)\n",
        "\n",
        "google_data = load_csv('googleplaystore.csv')\n",
        "apple_data = load_csv('AppleStore.csv')"
      ]
    },
    {
      "cell_type": "code",
      "source": [
        "def only_good_length_rows(dataset, expected_length):\n",
        "    return [row for row in dataset if len(row) == expected_length]\n",
        "\n",
        "def remove_header(dataset):\n",
        "    return dataset[1:]\n",
        "def remove_duplicates(dataset, name_index):\n",
        "    seen = {}\n",
        "    for app in dataset:\n",
        "        name = app[name_index]\n",
        "        try:\n",
        "            n_reviews = float(app[3])\n",
        "        except:\n",
        "            n_reviews = 0\n",
        "        if name in seen:\n",
        "            try:\n",
        "                if n_reviews > float(seen[name][3]):\n",
        "                    seen[name] = app\n",
        "            except:\n",
        "                pass\n",
        "        else:\n",
        "            seen[name] = app\n",
        "    return list(seen.values())\n",
        "\n",
        "def is_english(string):\n",
        "    non_ascii = sum(1 for c in string if ord(c) > 127)\n",
        "    return non_ascii <= 3\n",
        "\n",
        "def filter_english_apps(dataset, name_index):\n",
        "    return [app for app in dataset if is_english(app[name_index])]\n",
        "\n",
        "def filter_free_apps(dataset, price_index):\n",
        "    return [app for app in dataset if app[price_index] == '0.0' or app[price_index] == '0']"
      ],
      "metadata": {
        "id": "SBu7sGkuErME"
      },
      "execution_count": null,
      "outputs": []
    },
    {
      "cell_type": "code",
      "source": [
        "def google_ready():\n",
        "    step1 = only_good_length_rows(google_data, 13)\n",
        "    step2 = remove_header(step1)\n",
        "    step3 = remove_duplicates(step2, 0)\n",
        "    step4 = filter_english_apps(step3, 0)\n",
        "    step5 = filter_free_apps(step4, 7)\n",
        "    return step5"
      ],
      "metadata": {
        "id": "uE-_rQ38Ewev"
      },
      "execution_count": null,
      "outputs": []
    },
    {
      "cell_type": "code",
      "source": [
        "def apple_ready():\n",
        "    step1 = only_good_length_rows(apple_data, 16)\n",
        "    step2 = remove_header(step1)\n",
        "    step3 = filter_english_apps(step2, 1)\n",
        "    step4 = filter_free_apps(step3, 4)\n",
        "    return step4"
      ],
      "metadata": {
        "id": "y-yOYsSWEx9g"
      },
      "execution_count": null,
      "outputs": []
    },
    {
      "cell_type": "code",
      "source": [
        "google_clean = google_ready()\n",
        "apple_clean = apple_ready()\n",
        "\n",
        "print(f'Google Play Apps (clean): {len(google_clean)}')\n",
        "print(f'Apple Store Apps (clean): {len(apple_clean)}')\n",
        "\n",
        "# Przykładowe 2 aplikacje\n",
        "print('\\nGoogle Example:', google_clean[0])\n",
        "print('\\nApple Example:', apple_clean[0])"
      ],
      "metadata": {
        "colab": {
          "base_uri": "https://localhost:8080/"
        },
        "id": "_b3LTRaCE0d_",
        "outputId": "78f8ced1-b87a-47d6-f0c1-8904f19a4d09"
      },
      "execution_count": null,
      "outputs": [
        {
          "output_type": "stream",
          "name": "stdout",
          "text": [
            "Google Play Apps (clean): 8864\n",
            "Apple Store Apps (clean): 3222\n",
            "\n",
            "Google Example: ['Photo Editor & Candy Camera & Grid & ScrapBook', 'ART_AND_DESIGN', '4.1', '159', '19M', '10,000+', 'Free', '0', 'Everyone', 'Art & Design', 'January 7, 2018', '1.0.0', '4.0.3 and up']\n",
            "\n",
            "Apple Example: ['284882215', 'Facebook', '389879808', 'USD', '0.0', '2974676', '212', '3.5', '3.5', '95.0', '4+', 'Social Networking', '37', '1', '29', '1']\n"
          ]
        }
      ]
    },
    {
      "cell_type": "code",
      "source": [
        "#KROK 12_2\n",
        "def step12_2(dataset):\n",
        "    from collections import defaultdict\n",
        "\n",
        "    genre_totals = defaultdict(int)\n",
        "    genre_counts = defaultdict(int)\n",
        "\n",
        "    for app in dataset:\n",
        "        genre = app[11]\n",
        "        try:\n",
        "            ratings = int(app[5])\n",
        "            genre_totals[genre] += ratings\n",
        "            genre_counts[genre] += 1\n",
        "        except:\n",
        "            continue\n",
        "\n",
        "    genre_avgs = {}\n",
        "    for genre in genre_totals:\n",
        "        avg = genre_totals[genre] / genre_counts[genre]\n",
        "        genre_avgs[genre] = int(round(avg, 0))\n",
        "\n",
        "    return sorted(genre_avgs.items(), key=lambda x: x[1], reverse=True)"
      ],
      "metadata": {
        "id": "9LpEQCcRE3JY"
      },
      "execution_count": null,
      "outputs": []
    },
    {
      "cell_type": "code",
      "source": [
        "def unich_step12_2():\n",
        "    unich = '''\n",
        "    Social Networking : 71548.34905660378\n",
        "    Photo & Video : 28441.54375\n",
        "    Games : 22788.6696905016\n",
        "    Music : 57326.530303030304\n",
        "    Reference : 74942.11111111111\n",
        "    Health & Fitness : 23298.015384615384\n",
        "    Weather : 52279.892857142855\n",
        "    Utilities : 18684.456790123455\n",
        "    Travel : 28243.8\n",
        "    Shopping : 26919.690476190477\n",
        "    News : 21248.023255813954\n",
        "    Navigation : 86090.33333333333\n",
        "    Lifestyle : 16485.764705882353\n",
        "    Entertainment : 14029.830708661417\n",
        "    Food & Drink : 33333.92307692308\n",
        "    Sports : 23008.898550724636\n",
        "    Book : 39758.5\n",
        "    Finance : 31467.944444444445\n",
        "    Education : 7003.983050847458\n",
        "    Productivity : 21028.410714285714\n",
        "    Business : 7491.117647058823\n",
        "    Catalogs : 4004.0\n",
        "    Medical : 612.0\n",
        "    '''\n",
        "    dct = {}\n",
        "    for line in unich.strip().splitlines():\n",
        "        parsed = line.split(':')\n",
        "        genre = parsed[0].strip()\n",
        "        average = float(parsed[1].strip())\n",
        "        dct[genre] = int(round(average, 0))\n",
        "    return sorted(dct.items(), key=lambda x: x[1], reverse=True)"
      ],
      "metadata": {
        "id": "cXzk4X_mE3qW"
      },
      "execution_count": null,
      "outputs": []
    },
    {
      "cell_type": "code",
      "source": [
        "def verify_step12_2():\n",
        "    ref = unich_step12_2()\n",
        "    actual = step12_2(apple_clean)\n",
        "\n",
        "    same = ref == actual\n",
        "    print(\"Czy wyniki są zgodne:\", same)\n",
        "\n",
        "    if not same:\n",
        "        print(\"\\nRóżnice w kategoriach:\")\n",
        "        for (r_genre, r_val), (a_genre, a_val) in zip(ref, actual):\n",
        "            print(f\"{r_genre:<20} | expected: {r_val:<6} | got: {a_val:<6}\")\n",
        "    else:\n",
        "        print(\"\\nWyniki:\")\n",
        "        for genre, avg in actual:\n",
        "            print(f\"{genre:<20} : {avg}\")"
      ],
      "metadata": {
        "id": "K98pP2WRE5rS"
      },
      "execution_count": null,
      "outputs": []
    },
    {
      "cell_type": "code",
      "source": [
        "verify_step12_2()"
      ],
      "metadata": {
        "colab": {
          "base_uri": "https://localhost:8080/"
        },
        "id": "xLPjL4XVE7ei",
        "outputId": "ea6e27d3-b67b-4545-ed21-3b5b3a47a02f"
      },
      "execution_count": null,
      "outputs": [
        {
          "output_type": "stream",
          "name": "stdout",
          "text": [
            "Czy wyniki są zgodne: True\n",
            "\n",
            "Wyniki:\n",
            "Navigation           : 86090\n",
            "Reference            : 74942\n",
            "Social Networking    : 71548\n",
            "Music                : 57327\n",
            "Weather              : 52280\n",
            "Book                 : 39758\n",
            "Food & Drink         : 33334\n",
            "Finance              : 31468\n",
            "Photo & Video        : 28442\n",
            "Travel               : 28244\n",
            "Shopping             : 26920\n",
            "Health & Fitness     : 23298\n",
            "Sports               : 23009\n",
            "Games                : 22789\n",
            "News                 : 21248\n",
            "Productivity         : 21028\n",
            "Utilities            : 18684\n",
            "Lifestyle            : 16486\n",
            "Entertainment        : 14030\n",
            "Business             : 7491\n",
            "Education            : 7004\n",
            "Catalogs             : 4004\n",
            "Medical              : 612\n"
          ]
        }
      ]
    },
    {
      "cell_type": "code",
      "source": [
        "#KROK 13.2\n",
        "def step13_2(dataset):\n",
        "    from collections import defaultdict\n",
        "\n",
        "    category_totals = defaultdict(int)\n",
        "    category_counts = defaultdict(int)\n",
        "\n",
        "    for app in dataset:\n",
        "        category = app[1]\n",
        "        installs = app[5]\n",
        "        try:\n",
        "            installs_clean = installs.replace('+', '').replace(',', '')\n",
        "            installs_int = int(installs_clean)\n",
        "            category_totals[category] += installs_int\n",
        "            category_counts[category] += 1\n",
        "        except:\n",
        "            continue\n",
        "\n",
        "    category_avgs = {}\n",
        "    for category in category_totals:\n",
        "        avg = category_totals[category] / category_counts[category]\n",
        "        category_avgs[category] = int(round(avg, 0))\n",
        "\n",
        "    return sorted(category_avgs.items(), key=lambda x: x[1], reverse=True)"
      ],
      "metadata": {
        "id": "2WbcxC-UE9Ku"
      },
      "execution_count": null,
      "outputs": []
    },
    {
      "cell_type": "code",
      "source": [
        "def show_step13_2():\n",
        "    results = step13_2(google_clean)\n",
        "    print(\"Średnia liczba instalacji:\\n\")\n",
        "    for category, avg in results:\n",
        "        print(f\"{category:<20} : {avg}\")"
      ],
      "metadata": {
        "id": "H-GbkSiQE_jH"
      },
      "execution_count": null,
      "outputs": []
    },
    {
      "cell_type": "code",
      "source": [
        "show_step13_2()"
      ],
      "metadata": {
        "colab": {
          "base_uri": "https://localhost:8080/"
        },
        "id": "EAgxtSYAFAzc",
        "outputId": "efcef62c-0dc7-4307-ecf6-b18da762b484"
      },
      "execution_count": null,
      "outputs": [
        {
          "output_type": "stream",
          "name": "stdout",
          "text": [
            "Średnia liczba instalacji:\n",
            "\n",
            "COMMUNICATION        : 38456119\n",
            "VIDEO_PLAYERS        : 24727872\n",
            "SOCIAL               : 23253652\n",
            "PHOTOGRAPHY          : 17840110\n",
            "PRODUCTIVITY         : 16787331\n",
            "GAME                 : 15588016\n",
            "TRAVEL_AND_LOCAL     : 13984078\n",
            "ENTERTAINMENT        : 11640706\n",
            "TOOLS                : 10801391\n",
            "NEWS_AND_MAGAZINES   : 9549178\n",
            "BOOKS_AND_REFERENCE  : 8767812\n",
            "SHOPPING             : 7036877\n",
            "PERSONALIZATION      : 5201483\n",
            "WEATHER              : 5074486\n",
            "HEALTH_AND_FITNESS   : 4188822\n",
            "MAPS_AND_NAVIGATION  : 4056942\n",
            "FAMILY               : 3695642\n",
            "SPORTS               : 3638640\n",
            "ART_AND_DESIGN       : 1986335\n",
            "FOOD_AND_DRINK       : 1924898\n",
            "EDUCATION            : 1833495\n",
            "BUSINESS             : 1712290\n",
            "LIFESTYLE            : 1437816\n",
            "FINANCE              : 1387692\n",
            "HOUSE_AND_HOME       : 1331541\n",
            "DATING               : 854029\n",
            "COMICS               : 817657\n",
            "AUTO_AND_VEHICLES    : 647318\n",
            "LIBRARIES_AND_DEMO   : 638504\n",
            "PARENTING            : 542604\n",
            "BEAUTY               : 513152\n",
            "EVENTS               : 253542\n",
            "MEDICAL              : 120551\n"
          ]
        }
      ]
    }
  ]
}